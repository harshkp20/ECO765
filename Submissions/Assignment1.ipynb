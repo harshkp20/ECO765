{
  "nbformat": 4,
  "nbformat_minor": 0,
  "metadata": {
    "colab": {
      "provenance": []
    },
    "kernelspec": {
      "name": "python3",
      "display_name": "Python 3"
    },
    "language_info": {
      "name": "python"
    }
  },
  "cells": [
    {
      "cell_type": "markdown",
      "source": [
        "Importing Libraries"
      ],
      "metadata": {
        "id": "0zUtqUb5h1xf"
      }
    },
    {
      "cell_type": "code",
      "source": [
        "import numpy as np\n",
        "import pandas as pd\n",
        "from matplotlib import pyplot as plt\n",
        "import seaborn as sns"
      ],
      "metadata": {
        "id": "7_M8YNfWFCfw"
      },
      "execution_count": 336,
      "outputs": []
    },
    {
      "cell_type": "markdown",
      "source": [
        "### **Question 1 - Creating Feature Set**\n",
        "\n"
      ],
      "metadata": {
        "id": "NWm1oPYzhlKL"
      }
    },
    {
      "cell_type": "markdown",
      "source": [
        "Q1(a). 10 Vectors with mean [1 0]"
      ],
      "metadata": {
        "id": "AZrPxdEXDr6Z"
      }
    },
    {
      "cell_type": "code",
      "source": [
        "mean1 = [1,0]\n",
        "var1 = [[1,0], [0,1]]\n",
        "N1=10\n",
        "set1 = np.random.multivariate_normal(mean1,var1,N1)\n",
        "set1"
      ],
      "metadata": {
        "colab": {
          "base_uri": "https://localhost:8080/"
        },
        "id": "orvkvAmbDuzN",
        "outputId": "8b5ffcc1-6f49-47a2-88fd-c1487c441165"
      },
      "execution_count": 210,
      "outputs": [
        {
          "output_type": "execute_result",
          "data": {
            "text/plain": [
              "array([[ 2.58407121, -0.24846712],\n",
              "       [ 2.62234119, -0.67554341],\n",
              "       [ 1.54604417, -0.18068314],\n",
              "       [ 1.20106974,  0.20788705],\n",
              "       [ 0.46311659,  0.01537821],\n",
              "       [-1.06945542,  0.51254924],\n",
              "       [ 1.19015781,  0.79993913],\n",
              "       [ 1.96378444,  0.17509023],\n",
              "       [ 0.56735904,  0.33647733],\n",
              "       [-0.75621649, -0.37887673]])"
            ]
          },
          "metadata": {},
          "execution_count": 210
        }
      ]
    },
    {
      "cell_type": "markdown",
      "source": [
        "Q1(a). 10 Vectors with mean [0 1]"
      ],
      "metadata": {
        "id": "nGxkuGngFR0X"
      }
    },
    {
      "cell_type": "code",
      "source": [
        "mean2 = [0,1]\n",
        "var2 = [[1,0], [0,1]]\n",
        "N2=10\n",
        "set2 = np.random.multivariate_normal(mean2,var2,N2)\n",
        "set2"
      ],
      "metadata": {
        "colab": {
          "base_uri": "https://localhost:8080/"
        },
        "id": "lISadAIyFVJ2",
        "outputId": "7ab8ce63-d08e-4075-c18c-9802f9b08c6a"
      },
      "execution_count": 211,
      "outputs": [
        {
          "output_type": "execute_result",
          "data": {
            "text/plain": [
              "array([[ 0.89857829,  1.25747573],\n",
              "       [-0.36543197,  2.15619434],\n",
              "       [ 0.70057614,  0.56504691],\n",
              "       [ 0.42993278,  1.69543521],\n",
              "       [-0.67975376,  0.59698648],\n",
              "       [ 0.02324273,  1.15254339],\n",
              "       [ 0.25256789,  1.34584079],\n",
              "       [ 0.69899663,  1.28167378],\n",
              "       [ 0.42541248,  0.6748653 ],\n",
              "       [-0.20865197,  2.09998689]])"
            ]
          },
          "metadata": {},
          "execution_count": 211
        }
      ]
    },
    {
      "cell_type": "markdown",
      "source": [
        "Q1(b). Generation of first set of 100 feature vectors"
      ],
      "metadata": {
        "id": "VB92eJ8-GLVf"
      }
    },
    {
      "cell_type": "code",
      "source": [
        "cov1_1=[[0.1,0],[0,0.1]]\n",
        "N3=10\n",
        "set1_1 =[]\n",
        "for i in range(0,10):\n",
        "  set1_1.append(np.random.multivariate_normal(set1[i], cov1_1,N3))"
      ],
      "metadata": {
        "id": "wb-PB3jNGQj-"
      },
      "execution_count": 212,
      "outputs": []
    },
    {
      "cell_type": "markdown",
      "source": [
        "Reshaping"
      ],
      "metadata": {
        "id": "-04FC003HoVu"
      }
    },
    {
      "cell_type": "code",
      "source": [
        "data1=np.array(set1_1)\n",
        "data1=data1.reshape(100,2)"
      ],
      "metadata": {
        "id": "RiU5ZLeMHsTO"
      },
      "execution_count": 213,
      "outputs": []
    },
    {
      "cell_type": "markdown",
      "source": [
        "Making DataFrame"
      ],
      "metadata": {
        "id": "zLXZZBg_JVAm"
      }
    },
    {
      "cell_type": "code",
      "source": [
        "df1 = pd.DataFrame(data1,columns=['feature1', 'feature2'])\n",
        "df1['y']=1\n",
        "df1"
      ],
      "metadata": {
        "colab": {
          "base_uri": "https://localhost:8080/",
          "height": 0
        },
        "id": "e_SaT-3HJWPu",
        "outputId": "176294ef-8c7c-4bcb-8ded-d457085c4e7e"
      },
      "execution_count": 214,
      "outputs": [
        {
          "output_type": "execute_result",
          "data": {
            "text/plain": [
              "    feature1  feature2  y\n",
              "0   2.673169 -0.484491  1\n",
              "1   2.282819 -0.170177  1\n",
              "2   2.317924 -0.518357  1\n",
              "3   2.562748 -0.478862  1\n",
              "4   2.870942 -0.003974  1\n",
              "..       ...       ... ..\n",
              "95 -0.358317 -0.303447  1\n",
              "96 -0.998186 -0.710174  1\n",
              "97 -0.261038 -0.777554  1\n",
              "98 -0.700080 -0.429853  1\n",
              "99 -1.061952 -0.316385  1\n",
              "\n",
              "[100 rows x 3 columns]"
            ],
            "text/html": [
              "\n",
              "  <div id=\"df-3692503a-2828-45fe-be79-6238c0dea185\">\n",
              "    <div class=\"colab-df-container\">\n",
              "      <div>\n",
              "<style scoped>\n",
              "    .dataframe tbody tr th:only-of-type {\n",
              "        vertical-align: middle;\n",
              "    }\n",
              "\n",
              "    .dataframe tbody tr th {\n",
              "        vertical-align: top;\n",
              "    }\n",
              "\n",
              "    .dataframe thead th {\n",
              "        text-align: right;\n",
              "    }\n",
              "</style>\n",
              "<table border=\"1\" class=\"dataframe\">\n",
              "  <thead>\n",
              "    <tr style=\"text-align: right;\">\n",
              "      <th></th>\n",
              "      <th>feature1</th>\n",
              "      <th>feature2</th>\n",
              "      <th>y</th>\n",
              "    </tr>\n",
              "  </thead>\n",
              "  <tbody>\n",
              "    <tr>\n",
              "      <th>0</th>\n",
              "      <td>2.673169</td>\n",
              "      <td>-0.484491</td>\n",
              "      <td>1</td>\n",
              "    </tr>\n",
              "    <tr>\n",
              "      <th>1</th>\n",
              "      <td>2.282819</td>\n",
              "      <td>-0.170177</td>\n",
              "      <td>1</td>\n",
              "    </tr>\n",
              "    <tr>\n",
              "      <th>2</th>\n",
              "      <td>2.317924</td>\n",
              "      <td>-0.518357</td>\n",
              "      <td>1</td>\n",
              "    </tr>\n",
              "    <tr>\n",
              "      <th>3</th>\n",
              "      <td>2.562748</td>\n",
              "      <td>-0.478862</td>\n",
              "      <td>1</td>\n",
              "    </tr>\n",
              "    <tr>\n",
              "      <th>4</th>\n",
              "      <td>2.870942</td>\n",
              "      <td>-0.003974</td>\n",
              "      <td>1</td>\n",
              "    </tr>\n",
              "    <tr>\n",
              "      <th>...</th>\n",
              "      <td>...</td>\n",
              "      <td>...</td>\n",
              "      <td>...</td>\n",
              "    </tr>\n",
              "    <tr>\n",
              "      <th>95</th>\n",
              "      <td>-0.358317</td>\n",
              "      <td>-0.303447</td>\n",
              "      <td>1</td>\n",
              "    </tr>\n",
              "    <tr>\n",
              "      <th>96</th>\n",
              "      <td>-0.998186</td>\n",
              "      <td>-0.710174</td>\n",
              "      <td>1</td>\n",
              "    </tr>\n",
              "    <tr>\n",
              "      <th>97</th>\n",
              "      <td>-0.261038</td>\n",
              "      <td>-0.777554</td>\n",
              "      <td>1</td>\n",
              "    </tr>\n",
              "    <tr>\n",
              "      <th>98</th>\n",
              "      <td>-0.700080</td>\n",
              "      <td>-0.429853</td>\n",
              "      <td>1</td>\n",
              "    </tr>\n",
              "    <tr>\n",
              "      <th>99</th>\n",
              "      <td>-1.061952</td>\n",
              "      <td>-0.316385</td>\n",
              "      <td>1</td>\n",
              "    </tr>\n",
              "  </tbody>\n",
              "</table>\n",
              "<p>100 rows × 3 columns</p>\n",
              "</div>\n",
              "      <button class=\"colab-df-convert\" onclick=\"convertToInteractive('df-3692503a-2828-45fe-be79-6238c0dea185')\"\n",
              "              title=\"Convert this dataframe to an interactive table.\"\n",
              "              style=\"display:none;\">\n",
              "        \n",
              "  <svg xmlns=\"http://www.w3.org/2000/svg\" height=\"24px\"viewBox=\"0 0 24 24\"\n",
              "       width=\"24px\">\n",
              "    <path d=\"M0 0h24v24H0V0z\" fill=\"none\"/>\n",
              "    <path d=\"M18.56 5.44l.94 2.06.94-2.06 2.06-.94-2.06-.94-.94-2.06-.94 2.06-2.06.94zm-11 1L8.5 8.5l.94-2.06 2.06-.94-2.06-.94L8.5 2.5l-.94 2.06-2.06.94zm10 10l.94 2.06.94-2.06 2.06-.94-2.06-.94-.94-2.06-.94 2.06-2.06.94z\"/><path d=\"M17.41 7.96l-1.37-1.37c-.4-.4-.92-.59-1.43-.59-.52 0-1.04.2-1.43.59L10.3 9.45l-7.72 7.72c-.78.78-.78 2.05 0 2.83L4 21.41c.39.39.9.59 1.41.59.51 0 1.02-.2 1.41-.59l7.78-7.78 2.81-2.81c.8-.78.8-2.07 0-2.86zM5.41 20L4 18.59l7.72-7.72 1.47 1.35L5.41 20z\"/>\n",
              "  </svg>\n",
              "      </button>\n",
              "      \n",
              "  <style>\n",
              "    .colab-df-container {\n",
              "      display:flex;\n",
              "      flex-wrap:wrap;\n",
              "      gap: 12px;\n",
              "    }\n",
              "\n",
              "    .colab-df-convert {\n",
              "      background-color: #E8F0FE;\n",
              "      border: none;\n",
              "      border-radius: 50%;\n",
              "      cursor: pointer;\n",
              "      display: none;\n",
              "      fill: #1967D2;\n",
              "      height: 32px;\n",
              "      padding: 0 0 0 0;\n",
              "      width: 32px;\n",
              "    }\n",
              "\n",
              "    .colab-df-convert:hover {\n",
              "      background-color: #E2EBFA;\n",
              "      box-shadow: 0px 1px 2px rgba(60, 64, 67, 0.3), 0px 1px 3px 1px rgba(60, 64, 67, 0.15);\n",
              "      fill: #174EA6;\n",
              "    }\n",
              "\n",
              "    [theme=dark] .colab-df-convert {\n",
              "      background-color: #3B4455;\n",
              "      fill: #D2E3FC;\n",
              "    }\n",
              "\n",
              "    [theme=dark] .colab-df-convert:hover {\n",
              "      background-color: #434B5C;\n",
              "      box-shadow: 0px 1px 3px 1px rgba(0, 0, 0, 0.15);\n",
              "      filter: drop-shadow(0px 1px 2px rgba(0, 0, 0, 0.3));\n",
              "      fill: #FFFFFF;\n",
              "    }\n",
              "  </style>\n",
              "\n",
              "      <script>\n",
              "        const buttonEl =\n",
              "          document.querySelector('#df-3692503a-2828-45fe-be79-6238c0dea185 button.colab-df-convert');\n",
              "        buttonEl.style.display =\n",
              "          google.colab.kernel.accessAllowed ? 'block' : 'none';\n",
              "\n",
              "        async function convertToInteractive(key) {\n",
              "          const element = document.querySelector('#df-3692503a-2828-45fe-be79-6238c0dea185');\n",
              "          const dataTable =\n",
              "            await google.colab.kernel.invokeFunction('convertToInteractive',\n",
              "                                                     [key], {});\n",
              "          if (!dataTable) return;\n",
              "\n",
              "          const docLinkHtml = 'Like what you see? Visit the ' +\n",
              "            '<a target=\"_blank\" href=https://colab.research.google.com/notebooks/data_table.ipynb>data table notebook</a>'\n",
              "            + ' to learn more about interactive tables.';\n",
              "          element.innerHTML = '';\n",
              "          dataTable['output_type'] = 'display_data';\n",
              "          await google.colab.output.renderOutput(dataTable, element);\n",
              "          const docLink = document.createElement('div');\n",
              "          docLink.innerHTML = docLinkHtml;\n",
              "          element.appendChild(docLink);\n",
              "        }\n",
              "      </script>\n",
              "    </div>\n",
              "  </div>\n",
              "  "
            ]
          },
          "metadata": {},
          "execution_count": 214
        }
      ]
    },
    {
      "cell_type": "markdown",
      "source": [
        "Q1(c). Generation of second set of 100 feature vectors"
      ],
      "metadata": {
        "id": "B_IIcJiMLU9W"
      }
    },
    {
      "cell_type": "code",
      "source": [
        "cov2_1=[[0.1,0],[0,0.1]]\n",
        "N4=10\n",
        "set2_1 =[]\n",
        "for i in range(0,10):\n",
        "  set2_1.append(np.random.multivariate_normal(set2[i], cov2_1,N4))"
      ],
      "metadata": {
        "id": "sqZYcDVRLcI3"
      },
      "execution_count": 215,
      "outputs": []
    },
    {
      "cell_type": "markdown",
      "source": [
        "Reshaping"
      ],
      "metadata": {
        "id": "F-RZUysuLqqe"
      }
    },
    {
      "cell_type": "code",
      "source": [
        "data2=np.array(set2_1)\n",
        "data2=data2.reshape(100,2)"
      ],
      "metadata": {
        "id": "lJi5W3pyLtm-"
      },
      "execution_count": 216,
      "outputs": []
    },
    {
      "cell_type": "markdown",
      "source": [
        "Making DataFrame"
      ],
      "metadata": {
        "id": "vX1FNOOrL0d4"
      }
    },
    {
      "cell_type": "code",
      "source": [
        "df2 = pd.DataFrame(data2,columns=['feature1', 'feature2'])\n",
        "df2['y']=-1\n",
        "df2"
      ],
      "metadata": {
        "colab": {
          "base_uri": "https://localhost:8080/",
          "height": 0
        },
        "id": "3A_vbz9IL1pf",
        "outputId": "585258ed-e73c-4313-ea9f-26332e6eeafd"
      },
      "execution_count": 217,
      "outputs": [
        {
          "output_type": "execute_result",
          "data": {
            "text/plain": [
              "    feature1  feature2  y\n",
              "0   0.881708  1.630474 -1\n",
              "1   0.945479  1.782322 -1\n",
              "2   1.360950  2.049269 -1\n",
              "3   1.295402  1.058563 -1\n",
              "4   1.464085  0.681789 -1\n",
              "..       ...       ... ..\n",
              "95 -0.300273  1.602248 -1\n",
              "96 -0.431519  2.319151 -1\n",
              "97 -0.446603  1.594085 -1\n",
              "98  0.006538  2.325401 -1\n",
              "99 -0.191009  2.131388 -1\n",
              "\n",
              "[100 rows x 3 columns]"
            ],
            "text/html": [
              "\n",
              "  <div id=\"df-3e39533c-a1a7-4f14-b56a-96ab5ab7420d\">\n",
              "    <div class=\"colab-df-container\">\n",
              "      <div>\n",
              "<style scoped>\n",
              "    .dataframe tbody tr th:only-of-type {\n",
              "        vertical-align: middle;\n",
              "    }\n",
              "\n",
              "    .dataframe tbody tr th {\n",
              "        vertical-align: top;\n",
              "    }\n",
              "\n",
              "    .dataframe thead th {\n",
              "        text-align: right;\n",
              "    }\n",
              "</style>\n",
              "<table border=\"1\" class=\"dataframe\">\n",
              "  <thead>\n",
              "    <tr style=\"text-align: right;\">\n",
              "      <th></th>\n",
              "      <th>feature1</th>\n",
              "      <th>feature2</th>\n",
              "      <th>y</th>\n",
              "    </tr>\n",
              "  </thead>\n",
              "  <tbody>\n",
              "    <tr>\n",
              "      <th>0</th>\n",
              "      <td>0.881708</td>\n",
              "      <td>1.630474</td>\n",
              "      <td>-1</td>\n",
              "    </tr>\n",
              "    <tr>\n",
              "      <th>1</th>\n",
              "      <td>0.945479</td>\n",
              "      <td>1.782322</td>\n",
              "      <td>-1</td>\n",
              "    </tr>\n",
              "    <tr>\n",
              "      <th>2</th>\n",
              "      <td>1.360950</td>\n",
              "      <td>2.049269</td>\n",
              "      <td>-1</td>\n",
              "    </tr>\n",
              "    <tr>\n",
              "      <th>3</th>\n",
              "      <td>1.295402</td>\n",
              "      <td>1.058563</td>\n",
              "      <td>-1</td>\n",
              "    </tr>\n",
              "    <tr>\n",
              "      <th>4</th>\n",
              "      <td>1.464085</td>\n",
              "      <td>0.681789</td>\n",
              "      <td>-1</td>\n",
              "    </tr>\n",
              "    <tr>\n",
              "      <th>...</th>\n",
              "      <td>...</td>\n",
              "      <td>...</td>\n",
              "      <td>...</td>\n",
              "    </tr>\n",
              "    <tr>\n",
              "      <th>95</th>\n",
              "      <td>-0.300273</td>\n",
              "      <td>1.602248</td>\n",
              "      <td>-1</td>\n",
              "    </tr>\n",
              "    <tr>\n",
              "      <th>96</th>\n",
              "      <td>-0.431519</td>\n",
              "      <td>2.319151</td>\n",
              "      <td>-1</td>\n",
              "    </tr>\n",
              "    <tr>\n",
              "      <th>97</th>\n",
              "      <td>-0.446603</td>\n",
              "      <td>1.594085</td>\n",
              "      <td>-1</td>\n",
              "    </tr>\n",
              "    <tr>\n",
              "      <th>98</th>\n",
              "      <td>0.006538</td>\n",
              "      <td>2.325401</td>\n",
              "      <td>-1</td>\n",
              "    </tr>\n",
              "    <tr>\n",
              "      <th>99</th>\n",
              "      <td>-0.191009</td>\n",
              "      <td>2.131388</td>\n",
              "      <td>-1</td>\n",
              "    </tr>\n",
              "  </tbody>\n",
              "</table>\n",
              "<p>100 rows × 3 columns</p>\n",
              "</div>\n",
              "      <button class=\"colab-df-convert\" onclick=\"convertToInteractive('df-3e39533c-a1a7-4f14-b56a-96ab5ab7420d')\"\n",
              "              title=\"Convert this dataframe to an interactive table.\"\n",
              "              style=\"display:none;\">\n",
              "        \n",
              "  <svg xmlns=\"http://www.w3.org/2000/svg\" height=\"24px\"viewBox=\"0 0 24 24\"\n",
              "       width=\"24px\">\n",
              "    <path d=\"M0 0h24v24H0V0z\" fill=\"none\"/>\n",
              "    <path d=\"M18.56 5.44l.94 2.06.94-2.06 2.06-.94-2.06-.94-.94-2.06-.94 2.06-2.06.94zm-11 1L8.5 8.5l.94-2.06 2.06-.94-2.06-.94L8.5 2.5l-.94 2.06-2.06.94zm10 10l.94 2.06.94-2.06 2.06-.94-2.06-.94-.94-2.06-.94 2.06-2.06.94z\"/><path d=\"M17.41 7.96l-1.37-1.37c-.4-.4-.92-.59-1.43-.59-.52 0-1.04.2-1.43.59L10.3 9.45l-7.72 7.72c-.78.78-.78 2.05 0 2.83L4 21.41c.39.39.9.59 1.41.59.51 0 1.02-.2 1.41-.59l7.78-7.78 2.81-2.81c.8-.78.8-2.07 0-2.86zM5.41 20L4 18.59l7.72-7.72 1.47 1.35L5.41 20z\"/>\n",
              "  </svg>\n",
              "      </button>\n",
              "      \n",
              "  <style>\n",
              "    .colab-df-container {\n",
              "      display:flex;\n",
              "      flex-wrap:wrap;\n",
              "      gap: 12px;\n",
              "    }\n",
              "\n",
              "    .colab-df-convert {\n",
              "      background-color: #E8F0FE;\n",
              "      border: none;\n",
              "      border-radius: 50%;\n",
              "      cursor: pointer;\n",
              "      display: none;\n",
              "      fill: #1967D2;\n",
              "      height: 32px;\n",
              "      padding: 0 0 0 0;\n",
              "      width: 32px;\n",
              "    }\n",
              "\n",
              "    .colab-df-convert:hover {\n",
              "      background-color: #E2EBFA;\n",
              "      box-shadow: 0px 1px 2px rgba(60, 64, 67, 0.3), 0px 1px 3px 1px rgba(60, 64, 67, 0.15);\n",
              "      fill: #174EA6;\n",
              "    }\n",
              "\n",
              "    [theme=dark] .colab-df-convert {\n",
              "      background-color: #3B4455;\n",
              "      fill: #D2E3FC;\n",
              "    }\n",
              "\n",
              "    [theme=dark] .colab-df-convert:hover {\n",
              "      background-color: #434B5C;\n",
              "      box-shadow: 0px 1px 3px 1px rgba(0, 0, 0, 0.15);\n",
              "      filter: drop-shadow(0px 1px 2px rgba(0, 0, 0, 0.3));\n",
              "      fill: #FFFFFF;\n",
              "    }\n",
              "  </style>\n",
              "\n",
              "      <script>\n",
              "        const buttonEl =\n",
              "          document.querySelector('#df-3e39533c-a1a7-4f14-b56a-96ab5ab7420d button.colab-df-convert');\n",
              "        buttonEl.style.display =\n",
              "          google.colab.kernel.accessAllowed ? 'block' : 'none';\n",
              "\n",
              "        async function convertToInteractive(key) {\n",
              "          const element = document.querySelector('#df-3e39533c-a1a7-4f14-b56a-96ab5ab7420d');\n",
              "          const dataTable =\n",
              "            await google.colab.kernel.invokeFunction('convertToInteractive',\n",
              "                                                     [key], {});\n",
              "          if (!dataTable) return;\n",
              "\n",
              "          const docLinkHtml = 'Like what you see? Visit the ' +\n",
              "            '<a target=\"_blank\" href=https://colab.research.google.com/notebooks/data_table.ipynb>data table notebook</a>'\n",
              "            + ' to learn more about interactive tables.';\n",
              "          element.innerHTML = '';\n",
              "          dataTable['output_type'] = 'display_data';\n",
              "          await google.colab.output.renderOutput(dataTable, element);\n",
              "          const docLink = document.createElement('div');\n",
              "          docLink.innerHTML = docLinkHtml;\n",
              "          element.appendChild(docLink);\n",
              "        }\n",
              "      </script>\n",
              "    </div>\n",
              "  </div>\n",
              "  "
            ]
          },
          "metadata": {},
          "execution_count": 217
        }
      ]
    },
    {
      "cell_type": "markdown",
      "source": [
        "Combining the two DataFrames"
      ],
      "metadata": {
        "id": "iQpZJ8eNMbEG"
      }
    },
    {
      "cell_type": "code",
      "source": [
        "Data = pd.concat([df1,df2])\n",
        "Data.columns=['X1','Y1','y']\n",
        "Data"
      ],
      "metadata": {
        "colab": {
          "base_uri": "https://localhost:8080/",
          "height": 0
        },
        "id": "3LHO2hx0Mc-h",
        "outputId": "5d98118d-5f36-46e1-d320-8c046675125d"
      },
      "execution_count": 218,
      "outputs": [
        {
          "output_type": "execute_result",
          "data": {
            "text/plain": [
              "          X1        Y1  y\n",
              "0   2.673169 -0.484491  1\n",
              "1   2.282819 -0.170177  1\n",
              "2   2.317924 -0.518357  1\n",
              "3   2.562748 -0.478862  1\n",
              "4   2.870942 -0.003974  1\n",
              "..       ...       ... ..\n",
              "95 -0.300273  1.602248 -1\n",
              "96 -0.431519  2.319151 -1\n",
              "97 -0.446603  1.594085 -1\n",
              "98  0.006538  2.325401 -1\n",
              "99 -0.191009  2.131388 -1\n",
              "\n",
              "[200 rows x 3 columns]"
            ],
            "text/html": [
              "\n",
              "  <div id=\"df-b36b0753-7bf0-471a-9252-dbc5da5e954b\">\n",
              "    <div class=\"colab-df-container\">\n",
              "      <div>\n",
              "<style scoped>\n",
              "    .dataframe tbody tr th:only-of-type {\n",
              "        vertical-align: middle;\n",
              "    }\n",
              "\n",
              "    .dataframe tbody tr th {\n",
              "        vertical-align: top;\n",
              "    }\n",
              "\n",
              "    .dataframe thead th {\n",
              "        text-align: right;\n",
              "    }\n",
              "</style>\n",
              "<table border=\"1\" class=\"dataframe\">\n",
              "  <thead>\n",
              "    <tr style=\"text-align: right;\">\n",
              "      <th></th>\n",
              "      <th>X1</th>\n",
              "      <th>Y1</th>\n",
              "      <th>y</th>\n",
              "    </tr>\n",
              "  </thead>\n",
              "  <tbody>\n",
              "    <tr>\n",
              "      <th>0</th>\n",
              "      <td>2.673169</td>\n",
              "      <td>-0.484491</td>\n",
              "      <td>1</td>\n",
              "    </tr>\n",
              "    <tr>\n",
              "      <th>1</th>\n",
              "      <td>2.282819</td>\n",
              "      <td>-0.170177</td>\n",
              "      <td>1</td>\n",
              "    </tr>\n",
              "    <tr>\n",
              "      <th>2</th>\n",
              "      <td>2.317924</td>\n",
              "      <td>-0.518357</td>\n",
              "      <td>1</td>\n",
              "    </tr>\n",
              "    <tr>\n",
              "      <th>3</th>\n",
              "      <td>2.562748</td>\n",
              "      <td>-0.478862</td>\n",
              "      <td>1</td>\n",
              "    </tr>\n",
              "    <tr>\n",
              "      <th>4</th>\n",
              "      <td>2.870942</td>\n",
              "      <td>-0.003974</td>\n",
              "      <td>1</td>\n",
              "    </tr>\n",
              "    <tr>\n",
              "      <th>...</th>\n",
              "      <td>...</td>\n",
              "      <td>...</td>\n",
              "      <td>...</td>\n",
              "    </tr>\n",
              "    <tr>\n",
              "      <th>95</th>\n",
              "      <td>-0.300273</td>\n",
              "      <td>1.602248</td>\n",
              "      <td>-1</td>\n",
              "    </tr>\n",
              "    <tr>\n",
              "      <th>96</th>\n",
              "      <td>-0.431519</td>\n",
              "      <td>2.319151</td>\n",
              "      <td>-1</td>\n",
              "    </tr>\n",
              "    <tr>\n",
              "      <th>97</th>\n",
              "      <td>-0.446603</td>\n",
              "      <td>1.594085</td>\n",
              "      <td>-1</td>\n",
              "    </tr>\n",
              "    <tr>\n",
              "      <th>98</th>\n",
              "      <td>0.006538</td>\n",
              "      <td>2.325401</td>\n",
              "      <td>-1</td>\n",
              "    </tr>\n",
              "    <tr>\n",
              "      <th>99</th>\n",
              "      <td>-0.191009</td>\n",
              "      <td>2.131388</td>\n",
              "      <td>-1</td>\n",
              "    </tr>\n",
              "  </tbody>\n",
              "</table>\n",
              "<p>200 rows × 3 columns</p>\n",
              "</div>\n",
              "      <button class=\"colab-df-convert\" onclick=\"convertToInteractive('df-b36b0753-7bf0-471a-9252-dbc5da5e954b')\"\n",
              "              title=\"Convert this dataframe to an interactive table.\"\n",
              "              style=\"display:none;\">\n",
              "        \n",
              "  <svg xmlns=\"http://www.w3.org/2000/svg\" height=\"24px\"viewBox=\"0 0 24 24\"\n",
              "       width=\"24px\">\n",
              "    <path d=\"M0 0h24v24H0V0z\" fill=\"none\"/>\n",
              "    <path d=\"M18.56 5.44l.94 2.06.94-2.06 2.06-.94-2.06-.94-.94-2.06-.94 2.06-2.06.94zm-11 1L8.5 8.5l.94-2.06 2.06-.94-2.06-.94L8.5 2.5l-.94 2.06-2.06.94zm10 10l.94 2.06.94-2.06 2.06-.94-2.06-.94-.94-2.06-.94 2.06-2.06.94z\"/><path d=\"M17.41 7.96l-1.37-1.37c-.4-.4-.92-.59-1.43-.59-.52 0-1.04.2-1.43.59L10.3 9.45l-7.72 7.72c-.78.78-.78 2.05 0 2.83L4 21.41c.39.39.9.59 1.41.59.51 0 1.02-.2 1.41-.59l7.78-7.78 2.81-2.81c.8-.78.8-2.07 0-2.86zM5.41 20L4 18.59l7.72-7.72 1.47 1.35L5.41 20z\"/>\n",
              "  </svg>\n",
              "      </button>\n",
              "      \n",
              "  <style>\n",
              "    .colab-df-container {\n",
              "      display:flex;\n",
              "      flex-wrap:wrap;\n",
              "      gap: 12px;\n",
              "    }\n",
              "\n",
              "    .colab-df-convert {\n",
              "      background-color: #E8F0FE;\n",
              "      border: none;\n",
              "      border-radius: 50%;\n",
              "      cursor: pointer;\n",
              "      display: none;\n",
              "      fill: #1967D2;\n",
              "      height: 32px;\n",
              "      padding: 0 0 0 0;\n",
              "      width: 32px;\n",
              "    }\n",
              "\n",
              "    .colab-df-convert:hover {\n",
              "      background-color: #E2EBFA;\n",
              "      box-shadow: 0px 1px 2px rgba(60, 64, 67, 0.3), 0px 1px 3px 1px rgba(60, 64, 67, 0.15);\n",
              "      fill: #174EA6;\n",
              "    }\n",
              "\n",
              "    [theme=dark] .colab-df-convert {\n",
              "      background-color: #3B4455;\n",
              "      fill: #D2E3FC;\n",
              "    }\n",
              "\n",
              "    [theme=dark] .colab-df-convert:hover {\n",
              "      background-color: #434B5C;\n",
              "      box-shadow: 0px 1px 3px 1px rgba(0, 0, 0, 0.15);\n",
              "      filter: drop-shadow(0px 1px 2px rgba(0, 0, 0, 0.3));\n",
              "      fill: #FFFFFF;\n",
              "    }\n",
              "  </style>\n",
              "\n",
              "      <script>\n",
              "        const buttonEl =\n",
              "          document.querySelector('#df-b36b0753-7bf0-471a-9252-dbc5da5e954b button.colab-df-convert');\n",
              "        buttonEl.style.display =\n",
              "          google.colab.kernel.accessAllowed ? 'block' : 'none';\n",
              "\n",
              "        async function convertToInteractive(key) {\n",
              "          const element = document.querySelector('#df-b36b0753-7bf0-471a-9252-dbc5da5e954b');\n",
              "          const dataTable =\n",
              "            await google.colab.kernel.invokeFunction('convertToInteractive',\n",
              "                                                     [key], {});\n",
              "          if (!dataTable) return;\n",
              "\n",
              "          const docLinkHtml = 'Like what you see? Visit the ' +\n",
              "            '<a target=\"_blank\" href=https://colab.research.google.com/notebooks/data_table.ipynb>data table notebook</a>'\n",
              "            + ' to learn more about interactive tables.';\n",
              "          element.innerHTML = '';\n",
              "          dataTable['output_type'] = 'display_data';\n",
              "          await google.colab.output.renderOutput(dataTable, element);\n",
              "          const docLink = document.createElement('div');\n",
              "          docLink.innerHTML = docLinkHtml;\n",
              "          element.appendChild(docLink);\n",
              "        }\n",
              "      </script>\n",
              "    </div>\n",
              "  </div>\n",
              "  "
            ]
          },
          "metadata": {},
          "execution_count": 218
        }
      ]
    },
    {
      "cell_type": "markdown",
      "source": [
        "Scatter Plot"
      ],
      "metadata": {
        "id": "JZg0HKPXQ_dQ"
      }
    },
    {
      "cell_type": "code",
      "source": [
        "sns.scatterplot(data=Data,x='X1',y='Y1',hue=\"y\", palette='deep')"
      ],
      "metadata": {
        "colab": {
          "base_uri": "https://localhost:8080/",
          "height": 0
        },
        "id": "trPD0ZBkRBX3",
        "outputId": "ac26e0bc-0610-4a54-de9e-76f1e52e2c20"
      },
      "execution_count": 219,
      "outputs": [
        {
          "output_type": "execute_result",
          "data": {
            "text/plain": [
              "<matplotlib.axes._subplots.AxesSubplot at 0x7f58ab386b50>"
            ]
          },
          "metadata": {},
          "execution_count": 219
        },
        {
          "output_type": "display_data",
          "data": {
            "text/plain": [
              "<Figure size 432x288 with 1 Axes>"
            ],
            "image/png": "[encoded data removed]"
          },
          "metadata": {
            "needs_background": "light"
          }
        }
      ]
    },
    {
      "cell_type": "markdown",
      "source": [
        "### **Question 2 - Linear Classifier**"
      ],
      "metadata": {
        "id": "-UgN_NMphu07"
      }
    },
    {
      "cell_type": "markdown",
      "source": [
        "Converting DataFrame into Input and Target Array"
      ],
      "metadata": {
        "id": "lXfCeVI3ve8d"
      }
    },
    {
      "cell_type": "code",
      "source": [
        "X_test = Data.iloc[:, :-1].values\n",
        "y_test = Data.iloc[:, -1].values"
      ],
      "metadata": {
        "id": "WG7Kx_F6vmsG"
      },
      "execution_count": 330,
      "outputs": []
    },
    {
      "cell_type": "markdown",
      "source": [
        "Making the Logistic Regression Model"
      ],
      "metadata": {
        "id": "TYQlvF6HrQH0"
      }
    },
    {
      "cell_type": "code",
      "source": [
        "import numpy as np\n",
        "\n",
        "def sigmoid(x):\n",
        "    return 1/(1+np.exp(-x))\n",
        "\n",
        "class LogisticRegression():\n",
        "\n",
        "    def __init__(self, learning_rate=0.02, n_iters=1000):\n",
        "        self.learning_rate = learning_rate\n",
        "        self.n_iters = n_iters\n",
        "        self.w = None\n",
        "        self.b = None\n",
        "\n",
        "    def fit(self, X, y):\n",
        "        n_samples, n_features = X.shape\n",
        "        self.w = np.zeros(n_features)\n",
        "        self.b = 0\n",
        "\n",
        "        for _ in range(self.n_iters):\n",
        "            x = np.dot(X, self.w) + self.b\n",
        "            h_theta = sigmoid(x)\n",
        "\n",
        "            dw = (1/n_samples) * np.dot(X.T, (h_theta - y))\n",
        "            db = (1/n_samples) * np.sum(h_theta-y)\n",
        "\n",
        "            self.w = self.w - self.learning_rate*dw\n",
        "            self.b = self.b - self.learning_rate*db\n",
        "\n",
        "    def predict(self, X, threshold=0.5):\n",
        "        x = np.dot(X, self.w) + self.b\n",
        "        h_theta = sigmoid(x)\n",
        "        class_pred=[]\n",
        "        for y in h_theta:\n",
        "          if y<=threshold:\n",
        "            class_pred.append(-1)\n",
        "          else:\n",
        "            class_pred.append(1)\n",
        "        return class_pred"
      ],
      "metadata": {
        "id": "ijH4nvz3rFIa"
      },
      "execution_count": 331,
      "outputs": []
    },
    {
      "cell_type": "markdown",
      "source": [
        "Testing the model"
      ],
      "metadata": {
        "id": "hlnyAXhbvWtB"
      }
    },
    {
      "cell_type": "code",
      "source": [
        "clf = LogisticRegression()\n",
        "clf.fit(X_test,y_test)\n",
        "y_pred = clf.predict(X_test)"
      ],
      "metadata": {
        "id": "SzoaSgFrvYSu"
      },
      "execution_count": 332,
      "outputs": []
    },
    {
      "cell_type": "markdown",
      "source": [
        "Plotting Classifying Line"
      ],
      "metadata": {
        "id": "EszExwwRmN48"
      }
    },
    {
      "cell_type": "code",
      "source": [
        "#Defining Limits of the Plot\n",
        "X_min, X_max = X_test[:,0].min()-0.5, X_test[:,0].max()+0.5\n",
        "Y_min, Y_max = X_test[:,1].min()-0.5, X_test[:,1].max()+0.5\n",
        "\n",
        "dx = 0.1 #step size\n",
        "\n",
        "#Defining scale and grids of the plot\n",
        "X_grid = np.arange(X_min,X_max,dx)\n",
        "Y_grid = np.arange(Y_min,Y_max,dx)\n",
        "XX, YY = np.meshgrid(X_grid, Y_grid)\n",
        "print(XX.shape)\n",
        "\n",
        "#Model Details\n",
        "classifier = LogisticRegression()\n",
        "classifier.fit(X_test, y_test)\n",
        "Z = classifier.predict(np.c_[XX.ravel(), YY.ravel()])\n",
        "Z = np.array(Z)\n",
        "Z = Z.reshape(XX.shape)\n",
        "\n",
        "#Plotting\n",
        "plt.contourf(XX, YY, Z, cmap=plt.cm.Spectral)\n",
        "plt.scatter(X_test[:, 0], X_test[:, 1], c=y_pred, edgecolors='k')\n",
        "plt.show()"
      ],
      "metadata": {
        "colab": {
          "base_uri": "https://localhost:8080/",
          "height": 0
        },
        "id": "2ghO7zF-mJW0",
        "outputId": "bff0f735-56db-4469-bce4-4da9a9ddf577"
      },
      "execution_count": 333,
      "outputs": [
        {
          "output_type": "stream",
          "name": "stdout",
          "text": [
            "(47, 53)\n"
          ]
        },
        {
          "output_type": "display_data",
          "data": {
            "text/plain": [
              "<Figure size 432x288 with 1 Axes>"
            ],
            "image/png": "[encoded data removed]"
          },
          "metadata": {
            "needs_background": "light"
          }
        }
      ]
    },
    {
      "cell_type": "markdown",
      "source": [
        "Calculating the Training Error"
      ],
      "metadata": {
        "id": "mebvvNXBsZ7z"
      }
    },
    {
      "cell_type": "code",
      "source": [
        "#Sum of square of errors\n",
        "Error_Sq = 0\n",
        "for i in range (200):\n",
        "  diff = np.abs(y_pred[i]-y_test[i])\n",
        "  Error_Sq +=diff**2\n",
        "\n",
        "print(Error_Sq)\n",
        "#Mean\n",
        "Training_Error = Error_Sq/200\n",
        "print(\"The Training Error for the classifier is :\", Training_Error )\n"
      ],
      "metadata": {
        "colab": {
          "base_uri": "https://localhost:8080/"
        },
        "id": "0bns4qKEse3H",
        "outputId": "acd10270-9d8a-47a3-da1b-c194f53f63c5"
      },
      "execution_count": 334,
      "outputs": [
        {
          "output_type": "stream",
          "name": "stdout",
          "text": [
            "260\n",
            "The Training Error for the classifier is : 1.3\n"
          ]
        }
      ]
    },
    {
      "cell_type": "markdown",
      "source": [
        "### **Question 3 - K-Nearest Neighnour Classifier using Euclidean Distance for K=15**"
      ],
      "metadata": {
        "id": "VYSNRd4oRfol"
      }
    },
    {
      "cell_type": "markdown",
      "source": [
        "Making the KNN Classifier"
      ],
      "metadata": {
        "id": "vb6-ZvrxavCq"
      }
    },
    {
      "cell_type": "code",
      "source": [
        "class KNN:\n",
        "  def _init_(self,k):\n",
        "    self.k = k\n",
        "\n",
        "  def fit(self, input, target):\n",
        "    self.X = input\n",
        "    self.y = target\n",
        "\n",
        "  def predict(self, X_test):\n",
        "    predictions = []\n",
        "    for x in X_test:\n",
        "      distances = []\n",
        "      for xi in self.X:\n",
        "        diff = x - xi\n",
        "        euclidean_distance = np.sqrt(np.sum(diff**2))\n",
        "        distances.append(euclidean_distance)\n",
        "      nearest_indices = sorted(range(len(distances)), key=lambda k: distances[k])[:self.k]\n",
        "      nearest_labels = [self.y[i] for i in nearest_indices]\n",
        "      prediction = max(set(nearest_labels), key=nearest_labels.count)\n",
        "      predictions.append(prediction)\n",
        "    return predictions\n",
        "\n"
      ],
      "metadata": {
        "id": "C0ozWNvDaWNk"
      },
      "execution_count": 343,
      "outputs": []
    },
    {
      "cell_type": "markdown",
      "source": [
        "KNN Classifier for K = 15"
      ],
      "metadata": {
        "id": "m2ESRSUo6Jfj"
      }
    },
    {
      "cell_type": "code",
      "source": [
        "knn = KNN(k=15)\n",
        "knn.fit(X_test,y_test)"
      ],
      "metadata": {
        "colab": {
          "base_uri": "https://localhost:8080/",
          "height": 182
        },
        "id": "FV9Du6Ea6NGR",
        "outputId": "b8b562c2-b525-43d5-e627-ddf693f25378"
      },
      "execution_count": 347,
      "outputs": [
        {
          "output_type": "error",
          "ename": "NameError",
          "evalue": "ignored",
          "traceback": [
            "\u001b[0;31m---------------------------------------------------------------------------\u001b[0m",
            "\u001b[0;31mNameError\u001b[0m                                 Traceback (most recent call last)",
            "\u001b[0;32m<ipython-input-347-bda73ea3350e>\u001b[0m in \u001b[0;36m<module>\u001b[0;34m\u001b[0m\n\u001b[0;32m----> 1\u001b[0;31m \u001b[0mknn\u001b[0m \u001b[0;34m=\u001b[0m \u001b[0mKNN\u001b[0m\u001b[0;34m(\u001b[0m\u001b[0mk\u001b[0m\u001b[0;34m=\u001b[0m\u001b[0;36m15\u001b[0m\u001b[0;34m)\u001b[0m\u001b[0;34m\u001b[0m\u001b[0;34m\u001b[0m\u001b[0m\n\u001b[0m\u001b[1;32m      2\u001b[0m \u001b[0mknn\u001b[0m\u001b[0;34m.\u001b[0m\u001b[0mfit\u001b[0m\u001b[0;34m(\u001b[0m\u001b[0mX_test\u001b[0m\u001b[0;34m,\u001b[0m\u001b[0my_test\u001b[0m\u001b[0;34m)\u001b[0m\u001b[0;34m\u001b[0m\u001b[0;34m\u001b[0m\u001b[0m\n",
            "\u001b[0;31mNameError\u001b[0m: name 'KNN' is not defined"
          ]
        }
      ]
    }
  ]
}